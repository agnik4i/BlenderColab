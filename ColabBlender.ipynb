{
 "cells": [
  {
   "cell_type": "code",
   "execution_count": null,
   "metadata": {
    "id": "h7sezB8rZqc0"
   },
   "outputs": [],
   "source": [
    "# @title Informação de Memoria do Colab\n",
    "\n",
    "import psutil\n",
    "def get_size(bytes, suffix=\"B\"):\n",
    "    factor = 1024\n",
    "    for unit in [\"\", \"K\", \"M\", \"G\", \"T\", \"P\"]:\n",
    "        if bytes < factor:\n",
    "            return f\"{bytes:.2f}{unit}{suffix}\"\n",
    "        bytes /= factor\n",
    "print(\"=\"*40, \"Memory Information\", \"=\"*40)\n",
    "svmem = psutil.virtual_memory()\n",
    "print(f\"Total: {get_size(svmem.total)}\") ; print(f\"Available: {get_size(svmem.available)}\")\n",
    "print(f\"Used: {get_size(svmem.used)}\") ; print(f\"Percentage: {svmem.percent}%\")"
   ]
  },
  {
   "cell_type": "code",
   "execution_count": null,
   "metadata": {
    "id": "eD0RreK3aP_I"
   },
   "outputs": [],
   "source": [
    "# @title Versão do blender (usada pro render) { display-mode: \"form\" }\n",
    "Blender_Version = 'Blender 4.4' #@param [\"Blender 4.4\"]\n",
    "\n",
    "def path_leaf(path):\n",
    "    import ntpath\n",
    "    head, tail = ntpath.split(path)\n",
    "    return tail or ntpath.basename(head)\n",
    "\n",
    "dl_link = {\n",
    "    \"Blender 4.4\": \"https://download.blender.org/release/Blender4.4/blender-4.4.0-linux-x64.tar.xz\"\n",
    "}\n",
    "\n",
    "dl = dl_link[Blender_Version]\n",
    "filename = path_leaf(dl)\n",
    "\n",
    "# Download e instalação do blender\n",
    "!wget -nc $dl\n",
    "!mkdir -p ./blender && tar xf $filename -C ./blender --strip-components 1\n",
    "\n",
    "# Dependencias do COLAB\n",
    "!apt-get update\n",
    "!apt-get install -y libboost-all-dev\n",
    "!apt-get install -y libgl1-mesa-dev\n",
    "!apt-get install -y libglu1-mesa libsm-dev\n",
    "!apt-get install -y libxrandr2 libxrandr-dev\n",
    "!apt-get install -y libxi6 libxi-dev\n",
    "!apt-get install -y libxxf86vm1 libxxf86vm-dev\n",
    "!apt-get install -y libxinerama1 libxinerama-dev\n",
    "\n",
    "# Script de GPU\n",
    "data = \"\"\"\n",
    "import re\n",
    "import bpy\n",
    "\n",
    "scene = bpy.context.scene\n",
    "scene.cycles.device = 'GPU'\n",
    "\n",
    "prefs = bpy.context.preferences\n",
    "prefs.addons['cycles'].preferences.get_devices()\n",
    "\n",
    "cprefs = prefs.addons['cycles'].preferences\n",
    "print(cprefs)\n",
    "\n",
    "# Attempt to set GPU device types if available\n",
    "for compute_device_type in ('CUDA', 'OPTIX', 'OPENCL', 'NONE'):\n",
    "    try:\n",
    "        cprefs.compute_device_type = compute_device_type\n",
    "        print('Device found', compute_device_type)\n",
    "        break\n",
    "    except TypeError:\n",
    "        pass\n",
    "\n",
    "# Enable all CPU and GPU devices\n",
    "for device in cprefs.devices:\n",
    "    if not re.match('intel', device.name, re.I):\n",
    "        print('Activating', device)\n",
    "        device.use = True\n",
    "\"\"\"\n",
    "\n",
    "with open('setgpu.py', 'w') as f:\n",
    "    f.write(data)\n",
    "\n"
   ]
  },
  {
   "cell_type": "code",
   "execution_count": null,
   "metadata": {
    "id": "oPy2UbiccBlz"
   },
   "outputs": [],
   "source": [
    "# @title Adicionar o ACES\n",
    "!rm \"/content/blender/4.4/datafiles/colormanagement/config.ocio\"\n",
    "!wget \"https://github.com/AcademySoftwareFoundation/OpenColorIO-Config-ACES/releases/download/v2.0.0/cg-config-v2.0.0_aces-v1.3_ocio-v2.2.ocio\" -O \"/content/blender/4.4/datafiles/colormanagement/config.ocio\"\n"
   ]
  },
  {
   "cell_type": "markdown",
   "metadata": {
    "id": "1wGiPXh_cBIB"
   },
   "source": []
  },
  {
   "cell_type": "code",
   "execution_count": null,
   "metadata": {
    "id": "ua_HBDQWaxmR"
   },
   "outputs": [],
   "source": [
    "# @title Inicia o google drive\n",
    "from google.colab import drive\n",
    "drive.mount('/gdrive')"
   ]
  },
  {
   "cell_type": "code",
   "execution_count": null,
   "metadata": {
    "id": "s1FFS88Ha-Up"
   },
   "outputs": [],
   "source": [
    "# @title Acessa o google drive\n",
    "from google.colab import drive\n",
    "drive.mount('/content/drive')"
   ]
  },
  {
   "cell_type": "code",
   "execution_count": null,
   "metadata": {
    "id": "K5k1tDKNdB7c"
   },
   "outputs": [],
   "source": [
    "# @title Teste de render unitario\n",
    "!sudo ./blender/blender -b '/content/drive/MyDrive/file.blend' -o '/content/drive/My Drive/' -f 1"
   ]
  },
  {
   "cell_type": "code",
   "execution_count": null,
   "metadata": {
    "id": "aqt-JG9vd2hE"
   },
   "outputs": [],
   "source": [
    "# @title  Animação do Frame 1 ao 150\n",
    "!sudo ./blender/blender -P setgpu.py -b '/content/drive/My Drive/console/renderaqui.blend' -o '/content/drive/My Drive/output_####.png' -s 1 -e 150 -a"
   ]
  }
 ],
 "metadata": {
  "accelerator": "GPU",
  "colab": {
   "gpuType": "T4",
   "private_outputs": true,
   "provenance": [
    {
     "file_id": "1D3zJvx7V0zXLKqNKjaRVRQaQyA6cRSf_",
     "timestamp": 1721107695211
    }
   ]
  },
  "kernelspec": {
   "display_name": "Python 3",
   "name": "python3"
  },
  "language_info": {
   "name": "python"
  }
 },
 "nbformat": 4,
 "nbformat_minor": 0
}
